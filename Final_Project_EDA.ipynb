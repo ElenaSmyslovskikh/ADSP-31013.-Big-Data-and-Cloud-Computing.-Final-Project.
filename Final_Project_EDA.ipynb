{
 "cells": [
  {
   "cell_type": "markdown",
   "metadata": {
    "id": "Ac14bWT4cBPt"
   },
   "source": [
    "## Reading Git Final Project"
   ]
  },
  {
   "cell_type": "code",
   "execution_count": 1,
   "metadata": {
    "id": "-uwBvdZncBPv"
   },
   "outputs": [],
   "source": [
    "import os\n",
    "import subprocess\n",
    "import datetime\n",
    "import pandas as pd\n",
    "\n",
    "import matplotlib.pyplot as plt\n",
    "import seaborn as sns\n",
    "\n",
    "from pyspark.sql import functions as F\n",
    "from pyspark.sql.types import *\n",
    "\n",
    "pd.set_option('display.max_rows', 100)\n",
    "pd.set_option('display.max_columns', None)\n",
    "pd.set_option('display.max_colwidth', None)"
   ]
  },
  {
   "cell_type": "code",
   "execution_count": 2,
   "metadata": {},
   "outputs": [],
   "source": [
    "# import pyspark functions and data types\n",
    "from pyspark.sql.types import StructType, StructField, StringType, IntegerType, ArrayType, DoubleType, BooleanType\n",
    "from pyspark.sql.functions import col, element_at, count, countDistinct, avg, split, array_contains, isnan, when"
   ]
  },
  {
   "cell_type": "code",
   "execution_count": 3,
   "metadata": {
    "id": "wXtuGWpOcBPw"
   },
   "outputs": [],
   "source": [
    "spark.conf.set(\"spark.sql.repl.eagerEval.enabled\",True)"
   ]
  },
  {
   "cell_type": "code",
   "execution_count": 4,
   "metadata": {
    "id": "jUYiuavQcBPx"
   },
   "outputs": [],
   "source": [
    "gcs_folder = 'gs://msca-bdp-data-open/final_project_git'"
   ]
  },
  {
   "cell_type": "markdown",
   "metadata": {
    "id": "rchxP_aocBPx"
   },
   "source": [
    "#### Check data size in GCS"
   ]
  },
  {
   "cell_type": "code",
   "execution_count": 5,
   "metadata": {
    "id": "thpK2FYBcBPx",
    "outputId": "45f2e2d6-a7ce-4515-be5d-b77564ae3ac2"
   },
   "outputs": [
    {
     "name": "stdout",
     "output_type": "stream",
     "text": [
      "Total directory size: 1.36 TiB     gs://msca-bdp-data-open/final_project_git\n",
      "\n"
     ]
    }
   ],
   "source": [
    "cmd = 'gsutil du -s -h ' + gcs_folder\n",
    "\n",
    "p = subprocess.Popen(cmd, shell=True, stdout=subprocess.PIPE, stderr=subprocess.STDOUT, universal_newlines=True)\n",
    "for line in p.stdout.readlines():\n",
    "    print (f'Total directory size: {line}')\n",
    "\n",
    "retval = p.wait() # Wait for the child process to terminate."
   ]
  },
  {
   "cell_type": "markdown",
   "metadata": {
    "id": "IXh5D2a3cBPy"
   },
   "source": [
    "### Read Git data from GCS"
   ]
  },
  {
   "cell_type": "markdown",
   "metadata": {
    "id": "8KA3jbNDcBPy"
   },
   "source": [
    "#### Languages\n",
    "Programming languages by repository as reported by GitHub's https://developer.github.com/v3/repos/#list-languages API"
   ]
  },
  {
   "cell_type": "code",
   "execution_count": 6,
   "metadata": {
    "id": "wZYZzaoGcBPy",
    "outputId": "48d5c469-00a1-4f73-e894-7b3893c37e34"
   },
   "outputs": [
    {
     "name": "stderr",
     "output_type": "stream",
     "text": [
      "[Stage 1:>                                                          (0 + 2) / 2]\r"
     ]
    },
    {
     "name": "stdout",
     "output_type": "stream",
     "text": [
      "Records read from dataframe *languages*: 3,325,634\n",
      "CPU times: user 6.39 ms, sys: 5.14 ms, total: 11.5 ms\n",
      "Wall time: 9.82 s\n"
     ]
    },
    {
     "name": "stderr",
     "output_type": "stream",
     "text": [
      "                                                                                \r"
     ]
    }
   ],
   "source": [
    "%%time\n",
    "\n",
    "df_languages = spark.read.parquet(os.path.join(gcs_folder, 'languages'))\n",
    "print(f'Records read from dataframe *languages*: {df_languages.count():,.0f}')"
   ]
  },
  {
   "cell_type": "code",
   "execution_count": 7,
   "metadata": {
    "id": "ez3IGGqPcBPz",
    "outputId": "4f9c627e-1877-436a-c26a-34c981cd49d1"
   },
   "outputs": [
    {
     "name": "stdout",
     "output_type": "stream",
     "text": [
      "root\n",
      " |-- repo_name: string (nullable = true)\n",
      " |-- language: array (nullable = true)\n",
      " |    |-- element: struct (containsNull = true)\n",
      " |    |    |-- name: string (nullable = true)\n",
      " |    |    |-- bytes: long (nullable = true)\n",
      "\n"
     ]
    }
   ],
   "source": [
    "df_languages.printSchema()"
   ]
  },
  {
   "cell_type": "code",
   "execution_count": 8,
   "metadata": {},
   "outputs": [
    {
     "name": "stderr",
     "output_type": "stream",
     "text": [
      "                                                                                \r"
     ]
    },
    {
     "data": {
      "text/plain": [
       "[Row(repo_name='lemi136/puntovent', language=[Row(name='C', bytes=80)]),\n",
       " Row(repo_name='taxigps/nctool', language=[Row(name='C', bytes=4461)]),\n",
       " Row(repo_name='ahy1/strbuf', language=[Row(name='C', bytes=5573)]),\n",
       " Row(repo_name='nleiten/mod_rpaf-ng', language=[Row(name='C', bytes=30330)]),\n",
       " Row(repo_name='kmcallister/alameda', language=[Row(name='C', bytes=17077)]),\n",
       " Row(repo_name='TianYJ1/Snake', language=[Row(name='C', bytes=10381)]),\n",
       " Row(repo_name='doctorfree/Lds', language=[Row(name='C', bytes=56413)]),\n",
       " Row(repo_name='SumiMakito/ReinaJNIDemo', language=[Row(name='C', bytes=7444)]),\n",
       " Row(repo_name='serprex/rainbeam', language=[Row(name='C', bytes=1964)]),\n",
       " Row(repo_name='pdigiglio/oracolo', language=[Row(name='C', bytes=1966)])]"
      ]
     },
     "execution_count": 8,
     "metadata": {},
     "output_type": "execute_result"
    }
   ],
   "source": [
    "df_languages.take(10)"
   ]
  },
  {
   "cell_type": "code",
   "execution_count": 9,
   "metadata": {},
   "outputs": [
    {
     "name": "stderr",
     "output_type": "stream",
     "text": [
      "[Stage 5:=============================>                             (1 + 1) / 2]\r"
     ]
    },
    {
     "name": "stdout",
     "output_type": "stream",
     "text": [
      "+---------+--------+\n",
      "|repo_name|language|\n",
      "+---------+--------+\n",
      "|        0|       0|\n",
      "+---------+--------+\n",
      "\n"
     ]
    },
    {
     "name": "stderr",
     "output_type": "stream",
     "text": [
      "                                                                                \r"
     ]
    }
   ],
   "source": [
    "df_languages.select([count(when(col(c).isNull(), c)).alias(c) for c in df_languages.columns]).show()"
   ]
  },
  {
   "cell_type": "markdown",
   "metadata": {
    "id": "vBnkYk09cBPz"
   },
   "source": [
    "#### Licenses\n",
    "Open source license SPDX code for each repository as detected by https://developer.github.com/v3/licenses/"
   ]
  },
  {
   "cell_type": "code",
   "execution_count": 10,
   "metadata": {
    "id": "wLpIoHskcBP0",
    "outputId": "5e655851-9823-4ef8-b5fe-a81c9b0072b6"
   },
   "outputs": [
    {
     "name": "stdout",
     "output_type": "stream",
     "text": [
      "Records read from dataframe *licenses*: 3,325,634\n",
      "CPU times: user 4.22 ms, sys: 69 µs, total: 4.29 ms\n",
      "Wall time: 846 ms\n"
     ]
    }
   ],
   "source": [
    "%%time\n",
    "\n",
    "df_licenses = spark.read.parquet(os.path.join(gcs_folder, 'licenses'))\n",
    "print(f'Records read from dataframe *licenses*: {df_licenses.count():,.0f}')"
   ]
  },
  {
   "cell_type": "code",
   "execution_count": 11,
   "metadata": {
    "id": "VKOrcInzcBP0",
    "outputId": "a0fece29-8a5a-4e0f-df2c-ba139820070e"
   },
   "outputs": [
    {
     "name": "stdout",
     "output_type": "stream",
     "text": [
      "root\n",
      " |-- repo_name: string (nullable = true)\n",
      " |-- license: string (nullable = true)\n",
      "\n"
     ]
    }
   ],
   "source": [
    "df_licenses.printSchema()"
   ]
  },
  {
   "cell_type": "code",
   "execution_count": 12,
   "metadata": {},
   "outputs": [
    {
     "name": "stdout",
     "output_type": "stream",
     "text": [
      "+--------------------+------------+\n",
      "|           repo_name|     license|\n",
      "+--------------------+------------+\n",
      "|autarch/Dist-Zill...|artistic-2.0|\n",
      "|thundergnat/Prime...|artistic-2.0|\n",
      "|kusha-b-k/Turabia...|artistic-2.0|\n",
      "|onlinepremiumoutl...|artistic-2.0|\n",
      "|huangyuanlove/Lia...|artistic-2.0|\n",
      "|gitpan/Mojo-Serve...|artistic-2.0|\n",
      "|justincampbell/la...|artistic-2.0|\n",
      "|b4ldr/atlas-trace...|artistic-2.0|\n",
      "|             MBAOS/A|artistic-2.0|\n",
      "|   elbehosg/sg_test1|artistic-2.0|\n",
      "+--------------------+------------+\n",
      "only showing top 10 rows\n",
      "\n"
     ]
    }
   ],
   "source": [
    "df_licenses.show(10)"
   ]
  },
  {
   "cell_type": "markdown",
   "metadata": {
    "id": "UhbykvVYcBP0"
   },
   "source": [
    "#### Commits\n",
    "Unique Git commits from open source repositories on GitHub, pre-grouped by repositories they appear in."
   ]
  },
  {
   "cell_type": "code",
   "execution_count": 13,
   "metadata": {
    "id": "4QwYkP0DcBP0",
    "outputId": "6f3219da-8ef7-437d-e877-8f699df5ca59"
   },
   "outputs": [
    {
     "name": "stderr",
     "output_type": "stream",
     "text": [
      "[Stage 14:===================================================>(3483 + 1) / 3484]\r"
     ]
    },
    {
     "name": "stdout",
     "output_type": "stream",
     "text": [
      "Records read from dataframe *commits*: 265,419,190\n",
      "CPU times: user 893 ms, sys: 134 ms, total: 1.03 s\n",
      "Wall time: 4min 9s\n"
     ]
    },
    {
     "name": "stderr",
     "output_type": "stream",
     "text": [
      "                                                                                \r"
     ]
    }
   ],
   "source": [
    "%%time\n",
    "\n",
    "df_commits = spark.read.parquet(os.path.join(gcs_folder, 'commits'))\n",
    "print(f'Records read from dataframe *commits*: {df_commits.count():,.0f}')"
   ]
  },
  {
   "cell_type": "code",
   "execution_count": 14,
   "metadata": {
    "id": "pUpdI2gdcBP1",
    "outputId": "98d812e3-31c5-4464-dc3a-edb927b57db7"
   },
   "outputs": [
    {
     "name": "stdout",
     "output_type": "stream",
     "text": [
      "root\n",
      " |-- commit: string (nullable = true)\n",
      " |-- tree: string (nullable = true)\n",
      " |-- parent: array (nullable = true)\n",
      " |    |-- element: string (containsNull = true)\n",
      " |-- author: struct (nullable = true)\n",
      " |    |-- name: string (nullable = true)\n",
      " |    |-- email: string (nullable = true)\n",
      " |    |-- time_sec: long (nullable = true)\n",
      " |    |-- tz_offset: long (nullable = true)\n",
      " |    |-- date: struct (nullable = true)\n",
      " |    |    |-- seconds: long (nullable = true)\n",
      " |    |    |-- nanos: long (nullable = true)\n",
      " |-- committer: struct (nullable = true)\n",
      " |    |-- name: string (nullable = true)\n",
      " |    |-- email: string (nullable = true)\n",
      " |    |-- time_sec: long (nullable = true)\n",
      " |    |-- tz_offset: long (nullable = true)\n",
      " |    |-- date: struct (nullable = true)\n",
      " |    |    |-- seconds: long (nullable = true)\n",
      " |    |    |-- nanos: long (nullable = true)\n",
      " |-- subject: string (nullable = true)\n",
      " |-- message: string (nullable = true)\n",
      " |-- trailer: array (nullable = true)\n",
      " |    |-- element: struct (containsNull = true)\n",
      " |    |    |-- key: string (nullable = true)\n",
      " |    |    |-- value: string (nullable = true)\n",
      " |    |    |-- email: string (nullable = true)\n",
      " |-- difference: array (nullable = true)\n",
      " |    |-- element: struct (containsNull = true)\n",
      " |    |    |-- old_mode: long (nullable = true)\n",
      " |    |    |-- new_mode: long (nullable = true)\n",
      " |    |    |-- old_path: string (nullable = true)\n",
      " |    |    |-- new_path: string (nullable = true)\n",
      " |    |    |-- old_sha1: string (nullable = true)\n",
      " |    |    |-- new_sha1: string (nullable = true)\n",
      " |    |    |-- old_repo: string (nullable = true)\n",
      " |    |    |-- new_repo: string (nullable = true)\n",
      " |-- difference_truncated: boolean (nullable = true)\n",
      " |-- repo_name: array (nullable = true)\n",
      " |    |-- element: string (containsNull = true)\n",
      " |-- encoding: string (nullable = true)\n",
      "\n"
     ]
    }
   ],
   "source": [
    "df_commits.printSchema()"
   ]
  },
  {
   "cell_type": "code",
   "execution_count": 15,
   "metadata": {},
   "outputs": [
    {
     "name": "stderr",
     "output_type": "stream",
     "text": [
      "                                                                                \r"
     ]
    },
    {
     "data": {
      "text/plain": [
       "[Row(commit='aa358905a1b12c6fa43b6e877e907fc9d36ff0b9', tree='df3f8bf61bf1cb0dff3a86ebe18671792c2d4f27', parent=['ea230a45a0e97e4d95b5f7fae9ce7ef659b60291'], author=Row(name='conda-forge-coordinator', email='e5ec32c8593b6ea3202de4b38c1a852e362e575b@gmail.com', time_sec=1647357073, tz_offset=0, date=Row(seconds=1647357073, nanos=None)), committer=Row(name='conda-forge-coordinator', email='e5ec32c8593b6ea3202de4b38c1a852e362e575b@gmail.com', time_sec=1647357073, tz_offset=0, date=Row(seconds=1647357073, nanos=None)), subject='Updated the qcengine feedstock.', message='Updated the qcengine feedstock.', trailer=[], difference=[], difference_truncated=True, repo_name=['conda-forge/feedstocks'], encoding=None)]"
      ]
     },
     "execution_count": 15,
     "metadata": {},
     "output_type": "execute_result"
    }
   ],
   "source": [
    "df_commits.take(1)"
   ]
  },
  {
   "cell_type": "markdown",
   "metadata": {
    "id": "lRMSb6qxcBP1"
   },
   "source": [
    "#### Contents\n",
    "Unique file contents of text files under 1 MiB on the HEAD branch.  \n",
    "Can be joined to `files` dataset using the id columns to identify the repository and file path."
   ]
  },
  {
   "cell_type": "code",
   "execution_count": null,
   "metadata": {
    "id": "ph5tyzbQcBP1",
    "outputId": "414b14f3-3cae-44fb-ce0b-9c88e60622a2"
   },
   "outputs": [
    {
     "name": "stderr",
     "output_type": "stream",
     "text": [
      "[Stage 19:===================================================>(6980 + 1) / 6981]\r"
     ]
    },
    {
     "name": "stdout",
     "output_type": "stream",
     "text": [
      "Records read from dataframe *commits*: 281,191,977\n",
      "CPU times: user 1.76 s, sys: 354 ms, total: 2.11 s\n",
      "Wall time: 8min 49s\n"
     ]
    },
    {
     "name": "stderr",
     "output_type": "stream",
     "text": [
      "                                                                                \r"
     ]
    }
   ],
   "source": [
    "%%time\n",
    "\n",
    "df_contents = spark.read.parquet(os.path.join(gcs_folder, 'contents'))\n",
    "print(f'Records read from dataframe *commits*: {df_contents.count():,.0f}')"
   ]
  },
  {
   "cell_type": "code",
   "execution_count": null,
   "metadata": {
    "id": "QjOen14KcBP1",
    "outputId": "f9840313-a26a-476b-eb24-48f8f4ca1e84"
   },
   "outputs": [
    {
     "name": "stdout",
     "output_type": "stream",
     "text": [
      "root\n",
      " |-- id: string (nullable = true)\n",
      " |-- size: long (nullable = true)\n",
      " |-- content: string (nullable = true)\n",
      " |-- binary: boolean (nullable = true)\n",
      " |-- copies: long (nullable = true)\n",
      "\n"
     ]
    }
   ],
   "source": [
    "df_contents.printSchema()"
   ]
  },
  {
   "cell_type": "code",
   "execution_count": null,
   "metadata": {},
   "outputs": [
    {
     "name": "stderr",
     "output_type": "stream",
     "text": [
      "                                                                                \r"
     ]
    },
    {
     "data": {
      "text/plain": [
       "[Row(id='d5b1049fdaa182fa5f47e6f9c45bd46a478118eb', size=1570, content='{\"version\":3,\"sources\":[\"angular-locale_az-cyrl-az.js\"],\"names\":[\"angular\",\"module\",\"$provide\",\"PLURAL_CATEGORY\",\"ZERO\",\"ONE\",\"TWO\",\"FEW\",\"MANY\",\"OTHER\",\"value\",\"DATETIME_FORMATS\",\"AMPMS\",\"DAY\",\"ERANAMES\",\"ERAS\",\"FIRSTDAYOFWEEK\",\"MONTH\",\"SHORTDAY\",\"SHORTMONTH\",\"STANDALONEMONTH\",\"WEEKENDRANGE\",\"fullDate\",\"longDate\",\"medium\",\"mediumDate\",\"mediumTime\",\"short\",\"shortDate\",\"shortTime\",\"NUMBER_FORMATS\",\"CURRENCY_SYM\",\"DECIMAL_SEP\",\"GROUP_SEP\",\"PATTERNS\",\"gSize\",\"lgSize\",\"maxFrac\",\"minFrac\",\"minInt\",\"negPre\",\"negSuf\",\"posPre\",\"posSuf\",\"id\",\"localeID\",\"pluralCat\",\"n\",\"opt_precision\"],\"mappings\":\"AAAA,YACAA,SAAQC,OAAO,eAAiB,WAAY,SAASC,GACrD,GAAIC,IAAmBC,KAAM,OAAQC,IAAK,MAAOC,IAAK,MAAOC,IAAK,MAAOC,KAAM,OAAQC,MAAO,QAC9FP,GAASQ,MAAM,WACbC,kBACEC,OACE,KACA,MAEFC,KACE,QACA,eACA,kBACA,WACA,cACA,OACA,SAEFC,UACE,MACA,MAEFC,MACE,MACA,MAEFC,eAAkB,EAClBC,OACE,SACA,SACA,OACA,QACA,MACA,OACA,OACA,SACA,WACA,UACA,SACA,UAEFC,UACE,QACA,eACA,kBACA,WACA,cACA,OACA,SAEFC,YACE,SACA,SACA,OACA,QACA,MACA,OACA,OACA,SACA,WACA,UACA,SACA,UAEFC,iBACE,SACA,SACA,OACA,QACA,MACA,OACA,OACA,SACA,WACA,UACA,SACA,UAEFC,cACE,EACA,GAEFC,SAAY,mBACZC,SAAY,YACZC,OAAU,oBACVC,WAAc,WACdC,WAAc,WACdC,MAAS,iBACTC,UAAa,WACbC,UAAa,SAEfC,gBACEC,aAAgB,OAChBC,YAAe,IACfC,UAAa,IACbC,WAEIC,MAAS,EACTC,OAAU,EACVC,QAAW,EACXC,QAAW,EACXC,OAAU,EACVC,OAAU,IACVC,OAAU,GACVC,OAAU,GACVC,OAAU,KAGVR,MAAS,EACTC,OAAU,EACVC,QAAW,EACXC,QAAW,EACXC,OAAU,EACVC,OAAU,MACVC,OAAU,GACVC,OAAU,KACVC,OAAU,MAIhBC,GAAM,aACNC,SAAY,aACZC,UAAa,SAASC,EAAGC,GAAkB,MAAS,IAALD,EAAoB5C,EAAgBE,IAAgBF,EAAgBM\",\"file\":\"angular-locale_az-cyrl-az.min.js\"}', binary=False, copies=256),\n",
       " Row(id='896830f9ea31efd6b0d4b2a1955f11c27d199bbd', size=18616, content=None, binary=True, copies=1),\n",
       " Row(id='bf1e2a8490344601c878b9ecc2bf567229cb6459', size=15580, content=None, binary=True, copies=1),\n",
       " Row(id='e5976431eba91aa733b88ef0ca7599572a4cadbc', size=3328, content=None, binary=True, copies=1),\n",
       " Row(id='311532e41682cab22722dc51d91d9d86e71593bc', size=8970, content=None, binary=True, copies=1),\n",
       " Row(id='0f9f37090068023bce70395f5c31e9915c7c3c42', size=1060956, content=None, binary=True, copies=1),\n",
       " Row(id='9c78cf443f6f6c6fc4370d3c29edaf4812d375b7', size=11208, content=None, binary=True, copies=1),\n",
       " Row(id='54f06fa18833e05a2b52bdfc81d1fc190d2c0e69', size=861, content=None, binary=True, copies=1),\n",
       " Row(id='fbf679e412e05e886f0b84a2dafae1eaf05d7656', size=875, content=None, binary=True, copies=1),\n",
       " Row(id='74bc061ff301a4296b66771b1cc43c1b578a44cd', size=107097, content=None, binary=True, copies=1)]"
      ]
     },
     "execution_count": 18,
     "metadata": {},
     "output_type": "execute_result"
    }
   ],
   "source": [
    "df_contents.take(10)"
   ]
  },
  {
   "cell_type": "markdown",
   "metadata": {
    "id": "l6FuuqVYcBP2"
   },
   "source": [
    "#### Files\n",
    "File metadata for all files at HEAD.  \n",
    "Join with `contents` dataset on id columns to search text."
   ]
  },
  {
   "cell_type": "code",
   "execution_count": null,
   "metadata": {
    "id": "p1GXm762cBP2",
    "outputId": "069ddaed-6e3f-4962-f6f7-01a85bb7c11b"
   },
   "outputs": [
    {
     "name": "stderr",
     "output_type": "stream",
     "text": [
      "[Stage 24:===================================================>(1079 + 1) / 1080]\r"
     ]
    },
    {
     "name": "stdout",
     "output_type": "stream",
     "text": [
      "Records read from dataframe *files*: 2,309,424,945\n",
      "CPU times: user 251 ms, sys: 62.9 ms, total: 314 ms\n",
      "Wall time: 1min 16s\n"
     ]
    },
    {
     "name": "stderr",
     "output_type": "stream",
     "text": [
      "                                                                                \r"
     ]
    }
   ],
   "source": [
    "%%time\n",
    "\n",
    "df_files = spark.read.parquet(os.path.join(gcs_folder, 'files'))\n",
    "print(f'Records read from dataframe *files*: {df_files.count():,.0f}')"
   ]
  },
  {
   "cell_type": "code",
   "execution_count": null,
   "metadata": {
    "id": "i23WsqJDcBP2",
    "outputId": "a0eb35c7-5430-4245-87ab-05209ea20c22"
   },
   "outputs": [
    {
     "name": "stdout",
     "output_type": "stream",
     "text": [
      "root\n",
      " |-- repo_name: string (nullable = true)\n",
      " |-- ref: string (nullable = true)\n",
      " |-- path: string (nullable = true)\n",
      " |-- mode: long (nullable = true)\n",
      " |-- id: string (nullable = true)\n",
      " |-- symlink_target: string (nullable = true)\n",
      "\n"
     ]
    }
   ],
   "source": [
    "df_files.printSchema()"
   ]
  },
  {
   "cell_type": "code",
   "execution_count": null,
   "metadata": {},
   "outputs": [
    {
     "name": "stderr",
     "output_type": "stream",
     "text": [
      "                                                                                \r"
     ]
    },
    {
     "data": {
      "text/plain": [
       "[Row(repo_name='enzbang/diouzhtu', ref='refs/heads/master', path='gwiad_wiki_service/scripts/do-install.sh', mode=33261, id='49365044eed28769152726537f00a93a68988b07', symlink_target=None)]"
      ]
     },
     "execution_count": 21,
     "metadata": {},
     "output_type": "execute_result"
    }
   ],
   "source": [
    "df_files.take(1)"
   ]
  },
  {
   "cell_type": "markdown",
   "metadata": {
    "id": "mF0RqYm6cBP2"
   },
   "source": [
    "#### 1. Discard irrelevant or obviously erroneous data."
   ]
  },
  {
   "cell_type": "code",
   "execution_count": null,
   "metadata": {
    "id": "naDM07h2cBP2"
   },
   "outputs": [
    {
     "name": "stderr",
     "output_type": "stream",
     "text": [
      "[Stage 28:>                                                         (0 + 1) / 1]\r"
     ]
    },
    {
     "name": "stdout",
     "output_type": "stream",
     "text": [
      "+-------------------+------------+\n",
      "|          repo_name|language_new|\n",
      "+-------------------+------------+\n",
      "|  lemi136/puntovent|           C|\n",
      "|     taxigps/nctool|           C|\n",
      "|        ahy1/strbuf|           C|\n",
      "|nleiten/mod_rpaf-ng|           C|\n",
      "|kmcallister/alameda|           C|\n",
      "+-------------------+------------+\n",
      "only showing top 5 rows\n",
      "\n"
     ]
    },
    {
     "name": "stderr",
     "output_type": "stream",
     "text": [
      "                                                                                \r"
     ]
    }
   ],
   "source": [
    "# get the language from the language column by taking 'name' attribute of a Row object\n",
    "df_languages1 = df_languages.withColumn('language_new', element_at(col('language'), 1)['name'])\n",
    "df_languages1 = df_languages1.select(col(\"repo_name\"), col(\"language_new\"))\n",
    "df_languages1.show(5)"
   ]
  },
  {
   "cell_type": "code",
   "execution_count": null,
   "metadata": {},
   "outputs": [
    {
     "name": "stdout",
     "output_type": "stream",
     "text": [
      "+--------------------+-----------+--------------------+--------------------+--------------------+\n",
      "|       commit_author|commit_time|           repo_name|             subject|             message|\n",
      "+--------------------+-----------+--------------------+--------------------+--------------------+\n",
      "|conda-forge-coord...| 1647357073|conda-forge/feeds...|Updated the qceng...|Updated the qceng...|\n",
      "|           Rob Allen| 1323443117|MadCat34/zend-esc...|Merge remote-trac...|Merge remote-trac...|\n",
      "|        Zhihui Zhang| 1303924643|pscedu/slash2-stable|provide hook to o...|provide hook to o...|\n",
      "|conda-forge-coord...| 1643200796|conda-forge/feeds...|Updated the mailc...|Updated the mailc...|\n",
      "|        armaneshaghi| 1394080200|armaneshaghi/prof...|    2014-03-06T04:30|   2014-03-06T04:30\n",
      "|\n",
      "| Frank Clay Anderson| 1181587417|opensim-org/opens...|Now producing the...|Now producing the...|\n",
      "|conda-forge-coord...| 1542830971|conda-forge/feeds...|Updated the kiwip...|Updated the kiwip...|\n",
      "|Android Git Autom...| 1411109256|xorware/android_f...|am a85facc6: am 8...|am a85facc6: am 8...|\n",
      "|            dblaikie| 1414007656|tarunprabhu/Drago...|Correct importing...|Correct importing...|\n",
      "|Android Git Autom...| 1399069034|xorware/android_f...|am 77f37918: (-s ...|am 77f37918: (-s ...|\n",
      "+--------------------+-----------+--------------------+--------------------+--------------------+\n",
      "only showing top 10 rows\n",
      "\n"
     ]
    },
    {
     "name": "stderr",
     "output_type": "stream",
     "text": [
      "                                                                                \r"
     ]
    }
   ],
   "source": [
    "# filter columns in commits dataset\n",
    "df_commits1 = df_commits.withColumn('commit_author', col('committer')['name'])\n",
    "df_commits1 = df_commits1.withColumn('commit_time', col('committer')['time_sec'])\n",
    "df_commits1 = df_commits1.withColumn('repo_name', element_at(col('repo_name'), 1))\n",
    "df_commits1 = df_commits1.select(col(\"commit_author\"), col('commit_time'), col(\"repo_name\"), col(\"subject\"), col(\"message\"))\n",
    "df_commits1.show(10)"
   ]
  },
  {
   "cell_type": "code",
   "execution_count": null,
   "metadata": {},
   "outputs": [
    {
     "name": "stdout",
     "output_type": "stream",
     "text": [
      "+--------------------+--------------------+\n",
      "|           repo_name|                path|\n",
      "+--------------------+--------------------+\n",
      "|    enzbang/diouzhtu|gwiad_wiki_servic...|\n",
      "|TheMrNomis/Latex-...|             LFM.php|\n",
      "|TheMrNomis/Latex-...|PHP/LatexFlavored...|\n",
      "|    xurigan/uexJPush|EUExJPush/EUExJPu...|\n",
      "|    xurigan/uexJPush|EUExJPush/uexJPus...|\n",
      "|    xurigan/uexJPush|EUExJPush/EUExJPu...|\n",
      "|    xurigan/uexJPush|EUExJPush/EUExJPu...|\n",
      "|    xurigan/uexJPush|EUExJPush/EUExJPu...|\n",
      "|    xurigan/uexJPush|EUExJPush/EUExJPu...|\n",
      "|    xurigan/uexJPush|EUExJPush/EUExJPu...|\n",
      "+--------------------+--------------------+\n",
      "only showing top 10 rows\n",
      "\n"
     ]
    },
    {
     "name": "stderr",
     "output_type": "stream",
     "text": [
      "                                                                                \r"
     ]
    }
   ],
   "source": [
    "# filter columns in files dataset\n",
    "df_files1 = df_files.select(col(\"repo_name\"), col('path'))\n",
    "df_files1.show(10)"
   ]
  },
  {
   "cell_type": "markdown",
   "metadata": {},
   "source": [
    "#### 2. Complete thorough EDA to identify which variables you can use to complete your analysis"
   ]
  },
  {
   "cell_type": "markdown",
   "metadata": {},
   "source": [
    "Since I made sure to exclude duplicate variables in the filtering part, I will check for poorly populated variables in this part. All the selected variables are included in the analysis part, so I will try to leave as many of them as possible."
   ]
  },
  {
   "cell_type": "code",
   "execution_count": null,
   "metadata": {},
   "outputs": [],
   "source": [
    "#df_languages1s = df_languages1.sample(fraction=0.02, seed=42)\n",
    "#df_commits1s = df_commits1.sample(fraction=0.02, seed=42)\n",
    "#df_files1s = df_files1.sample(fraction=0.02, seed=42)\n",
    "#df_licenses1s = df_licenses.sample(fraction=0.02, seed=42)"
   ]
  },
  {
   "cell_type": "code",
   "execution_count": null,
   "metadata": {},
   "outputs": [],
   "source": [
    "df_languages1s = df_languages1.sample(fraction=0.2, seed=42)\n",
    "df_commits1s = df_commits1.sample(fraction=0.2, seed=42)\n",
    "df_files1s = df_files1.sample(fraction=0.2, seed=42)\n",
    "df_licenses1s = df_licenses.sample(fraction=0.2, seed=42)"
   ]
  },
  {
   "cell_type": "code",
   "execution_count": null,
   "metadata": {},
   "outputs": [
    {
     "name": "stderr",
     "output_type": "stream",
     "text": [
      "24/03/08 22:42:41 WARN org.apache.spark.deploy.yarn.YarnAllocator: Cannot find executorId for container: container_1709851323677_0026_01_000002\n",
      "                                                                                \r"
     ]
    },
    {
     "name": "stdout",
     "output_type": "stream",
     "text": [
      "df_languages1s:665942\n",
      "df_commits1s:53082478\n",
      "df_files1s:461885426\n",
      "df_licenses1s:665957\n"
     ]
    }
   ],
   "source": [
    "c1 = df_languages1s.count()\n",
    "c2 = df_commits1s.count()\n",
    "c3 = df_files1s.count()\n",
    "c4 = df_licenses1s.count()\n",
    "print(f\"df_languages1s:{c1}\")\n",
    "print(f\"df_commits1s:{c2}\")\n",
    "print(f\"df_files1s:{c3}\")\n",
    "print(f\"df_licenses1s:{c4}\")"
   ]
  },
  {
   "cell_type": "code",
   "execution_count": null,
   "metadata": {},
   "outputs": [
    {
     "name": "stderr",
     "output_type": "stream",
     "text": [
      "[Stage 44:===========================================>              (3 + 1) / 4]\r"
     ]
    }
   ],
   "source": [
    "joined_df = df_commits1s.join(\n",
    "    df_languages1s, df_commits1s[\"repo_name\"] == df_languages1s[\"repo_name\"]).join(\n",
    "    df_licenses1s, df_commits1s[\"repo_name\"] == df_licenses1s[\"repo_name\"]).drop(\n",
    "    df_languages1s['repo_name']).drop(df_licenses1s['repo_name'])\n",
    "joined_df.show(5)"
   ]
  },
  {
   "cell_type": "code",
   "execution_count": null,
   "metadata": {},
   "outputs": [],
   "source": [
    "#gs_write_path = 'gs://msca-bdp-students-bucket/shared_data/esmyslovskikh/sample_df.parquet'\n",
    "#joined_df.write.parquet(gs_write_path)"
   ]
  },
  {
   "cell_type": "code",
   "execution_count": null,
   "metadata": {},
   "outputs": [],
   "source": [
    "gs_write_path_whole = 'gs://msca-bdp-students-bucket/shared_data/esmyslovskikh/whole_df.parquet'\n",
    "joined_df.write.parquet(gs_write_path_whole)"
   ]
  },
  {
   "cell_type": "code",
   "execution_count": null,
   "metadata": {
    "id": "YqXIF6VOcBP2",
    "outputId": "db668107-45f6-473c-db25-f920e141402e"
   },
   "outputs": [],
   "source": [
    "import datetime\n",
    "import pytz\n",
    "\n",
    "datetime.datetime.now(pytz.timezone('US/Central')).strftime(\"%a, %d %B %Y %H:%M:%S\")"
   ]
  }
 ],
 "metadata": {
  "colab": {
   "provenance": []
  },
  "kernelspec": {
   "display_name": "Python 3 (ipykernel)",
   "language": "python",
   "name": "python3"
  },
  "language_info": {
   "codemirror_mode": {
    "name": "ipython",
    "version": 3
   },
   "file_extension": ".py",
   "mimetype": "text/x-python",
   "name": "python",
   "nbconvert_exporter": "python",
   "pygments_lexer": "ipython3",
   "version": "3.11.5"
  }
 },
 "nbformat": 4,
 "nbformat_minor": 4
}
