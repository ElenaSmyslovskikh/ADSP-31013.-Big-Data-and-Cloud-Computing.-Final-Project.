{
 "cells": [
  {
   "cell_type": "markdown",
   "id": "f24ef95d-1c06-413c-8116-d3cd0080c943",
   "metadata": {},
   "source": [
    "#### Time-Series Analysis"
   ]
  },
  {
   "cell_type": "code",
   "execution_count": null,
   "id": "1e017647-e56e-470d-bc94-17b12f008de5",
   "metadata": {},
   "outputs": [],
   "source": [
    "import os\n",
    "import subprocess\n",
    "import datetime\n",
    "import pandas as pd\n",
    "\n",
    "import matplotlib.pyplot as plt\n",
    "import seaborn as sns\n",
    "\n",
    "from pyspark.sql import functions as F\n",
    "from pyspark.sql.types import *\n",
    "\n",
    "pd.set_option('display.max_rows', 100)\n",
    "pd.set_option('display.max_columns', None)\n",
    "pd.set_option('display.max_colwidth', None)"
   ]
  },
  {
   "cell_type": "code",
   "execution_count": null,
   "id": "c992ea43-bdcc-485c-b2a5-2be5d8ff0174",
   "metadata": {},
   "outputs": [],
   "source": [
    "# import pyspark functions and data types\n",
    "from pyspark.sql.types import StructType, StructField, StringType, IntegerType, ArrayType, DoubleType, BooleanType\n",
    "from pyspark.sql.functions import col, element_at, count, countDistinct, avg, split, array_contains"
   ]
  },
  {
   "cell_type": "code",
   "execution_count": null,
   "id": "7d7ad98b-c34c-42d4-8b78-787fc4958727",
   "metadata": {},
   "outputs": [],
   "source": [
    "spark.conf.set(\"spark.sql.repl.eagerEval.enabled\",True)"
   ]
  },
  {
   "cell_type": "code",
   "execution_count": null,
   "id": "0594711f-8acb-460f-850c-89f25865712e",
   "metadata": {},
   "outputs": [],
   "source": [
    "gcs_folder = 'gs://msca-bdp-data-open/hub-msca-bdp-dphub-students-esmyslovskikh'\n",
    "\n",
    "df = spark.read \\\n",
    "    .option(\"header\", \"true\") \\\n",
    "    .option(\"inferSchema\", \"true\") \\\n",
    "    .parquet(gcs_folder + \"/sample_df.parquet\")"
   ]
  },
  {
   "cell_type": "code",
   "execution_count": null,
   "id": "2a0d7854-a310-4f75-b522-0a57def96655",
   "metadata": {},
   "outputs": [],
   "source": [
    "joined_df = joined_df.withColumn(\"commit_time\", col(\"commit_time\").cast(\"timestamp\")).show(10)\n",
    "joined_df = joined_df.withColumn(\"commit_time\", col(\"commit_time\").split(\" \")[0])"
   ]
  },
  {
   "cell_type": "code",
   "execution_count": null,
   "id": "cdbe042f-3ed9-40dc-855b-42670bc7ce57",
   "metadata": {},
   "outputs": [],
   "source": [
    "plt.figure(figsize=(10, 6))\n",
    "plt.plot(joined_df[\"commit_time\"], joined_df[\"value\"], marker='o')\n",
    "plt.xlabel(\"Timestamp\")\n",
    "plt.ylabel(\"Value\")\n",
    "plt.title(\"Time Series Plot\")\n",
    "plt.xticks(rotation=45)\n",
    "plt.grid(True)\n",
    "plt.tight_layout()\n",
    "plt.show()"
   ]
  },
  {
   "cell_type": "code",
   "execution_count": null,
   "id": "e4bbba6e-02a9-4b27-a964-7fa2802d9518",
   "metadata": {},
   "outputs": [],
   "source": [
    "import datetime\n",
    "import pytz\n",
    "\n",
    "datetime.datetime.now(pytz.timezone('US/Central')).strftime(\"%a, %d %B %Y %H:%M:%S\")"
   ]
  }
 ],
 "metadata": {
  "kernelspec": {
   "display_name": "Python 3 (ipykernel)",
   "language": "python",
   "name": "python3"
  },
  "language_info": {
   "codemirror_mode": {
    "name": "ipython",
    "version": 3
   },
   "file_extension": ".py",
   "mimetype": "text/x-python",
   "name": "python",
   "nbconvert_exporter": "python",
   "pygments_lexer": "ipython3",
   "version": "3.11.5"
  }
 },
 "nbformat": 4,
 "nbformat_minor": 5
}
